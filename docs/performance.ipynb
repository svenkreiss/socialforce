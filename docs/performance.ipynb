{
 "cells": [
  {
   "cell_type": "code",
   "execution_count": null,
   "metadata": {},
   "outputs": [],
   "source": [
    "import cProfile\n",
    "import io\n",
    "import math\n",
    "import pstats\n",
    "import random\n",
    "\n",
    "import numpy as np\n",
    "import torch\n",
    "import socialforce"
   ]
  },
  {
   "cell_type": "markdown",
   "metadata": {},
   "source": [
    "[Sven Kreiss](https://www.svenkreiss.com), March 4 2021\n",
    "\n",
    "# Performance"
   ]
  },
  {
   "cell_type": "markdown",
   "metadata": {},
   "source": [
    "## Fitting to 1, 5 and 20 Circle Scenarios each with Two Pedestrians\n",
    "\n",
    "The preferred speed needs to be varied. Otherwise the symmetry of the problem creates unrealistic scenarios where the two pedestrians get stuck."
   ]
  },
  {
   "cell_type": "code",
   "execution_count": null,
   "metadata": {},
   "outputs": [],
   "source": [
    "def generate_gt(n):\n",
    "    torch.manual_seed(42)\n",
    "    np.random.seed(42)\n",
    "\n",
    "    # ped0 always left to right\n",
    "    ped0 = np.array([-5.0, 0.0, 1.0, 0.0, 5.0, 0.0])\n",
    "\n",
    "    generator_initial_states = []\n",
    "    for theta in np.random.rand(n) * 2.0 * math.pi:\n",
    "        # ped1 at a random angle with +/-20% speed variation\n",
    "        c, s = np.cos(theta), np.sin(theta)\n",
    "        r = np.array([[c, -s], [s, c]])\n",
    "        ped1 = np.concatenate((\n",
    "            np.matmul(r, ped0[0:2]),\n",
    "            np.matmul(r, ped0[2:4]) * (0.8 + np.random.rand(1) * 0.4),\n",
    "            np.matmul(r, ped0[4:6]),\n",
    "        ))\n",
    "        generator_initial_states.append(\n",
    "            np.stack((ped0, ped1))\n",
    "        )\n",
    "\n",
    "    generator_ped_ped = socialforce.PedPedPotential(2.1)\n",
    "    with torch.no_grad():\n",
    "        trajectories = [\n",
    "            socialforce.Simulator(initial_state, ped_ped=generator_ped_ped).run(21)\n",
    "            for initial_state in generator_initial_states\n",
    "        ]\n",
    "    return generator_ped_ped, trajectories\n",
    "\n",
    "generator_pedped_1, scenarios_1 = generate_gt(1)"
   ]
  },
  {
   "cell_type": "code",
   "execution_count": null,
   "metadata": {},
   "outputs": [],
   "source": [
    "true_experience = socialforce.Trainer.scenes_to_experience(scenarios_1)\n",
    "V = socialforce.PedPedPotentialMLP().double()\n",
    "initial_parameters = V.state_dict()\n",
    "\n",
    "def simulator_factory(initial_state):\n",
    "    return socialforce.Simulator(initial_state, ped_ped=V)\n",
    "\n",
    "opt = torch.optim.SGD(V.parameters(), lr=3.0)\n",
    "with cProfile.Profile() as pr:\n",
    "    socialforce.Trainer(simulator_factory, opt, true_experience, batch_size=1).loop(1)"
   ]
  },
  {
   "cell_type": "code",
   "execution_count": null,
   "metadata": {},
   "outputs": [],
   "source": [
    "ps = pstats.Stats(pr).strip_dirs().sort_stats('tottime')\n",
    "ps.dump_stats('simulator.prof')\n",
    "ps.print_stats()"
   ]
  },
  {
   "cell_type": "code",
   "execution_count": null,
   "metadata": {},
   "outputs": [],
   "source": [
    "!flameprof simulator.prof > simulator_flame.svg"
   ]
  },
  {
   "cell_type": "code",
   "execution_count": null,
   "metadata": {},
   "outputs": [],
   "source": [
    "import IPython\n",
    "IPython.display.SVG(filename='simulator_flame.svg')"
   ]
  },
  {
   "cell_type": "code",
   "execution_count": null,
   "metadata": {},
   "outputs": [],
   "source": []
  }
 ],
 "metadata": {
  "file_extension": ".py",
  "kernelspec": {
   "display_name": "Python 3.8.6  ('venv3': venv)",
   "metadata": {
    "interpreter": {
     "hash": "29864609ce42acb949f1cb2f5c54bbb80a5cac9b20d76f096c9b799bd2af5ed7"
    }
   },
   "name": "python3"
  },
  "language_info": {
   "codemirror_mode": {
    "name": "ipython",
    "version": 3
   },
   "file_extension": ".py",
   "mimetype": "text/x-python",
   "name": "python",
   "nbconvert_exporter": "python",
   "pygments_lexer": "ipython3",
   "version": "3.8.6"
  },
  "mimetype": "text/x-python",
  "name": "python",
  "npconvert_exporter": "python",
  "pygments_lexer": "ipython3",
  "version": 3
 },
 "nbformat": 4,
 "nbformat_minor": 2
}
