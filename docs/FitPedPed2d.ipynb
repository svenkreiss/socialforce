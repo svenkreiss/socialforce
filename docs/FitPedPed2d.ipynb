{
 "cells": [
  {
   "cell_type": "code",
   "execution_count": null,
   "metadata": {},
   "outputs": [],
   "source": [
    "%matplotlib inline\n",
    "%config InlineBackend.figure_format ='retina'\n",
    "\n",
    "import math\n",
    "import random\n",
    "\n",
    "import numpy as np\n",
    "import torch\n",
    "import socialforce"
   ]
  },
  {
   "cell_type": "markdown",
   "metadata": {},
   "source": [
    "[Sven Kreiss](https://www.svenkreiss.com), March 5, 2020\n",
    "\n",
    "# Fit PedPed Potential"
   ]
  },
  {
   "cell_type": "code",
   "execution_count": null,
   "metadata": {},
   "outputs": [],
   "source": [
    "# the \"pedestrian of interest\" is beta and the probe pedestrians are alpha\n",
    "\n",
    "x1 = np.linspace(-1.0, 2.0, 101, dtype=np.float32)\n",
    "x2 = np.linspace(-1.0, 1.0, 101, dtype=np.float32)\n",
    "xx1, xx2 = np.meshgrid(x1, x2)\n",
    "r_ab_probe = torch.from_numpy(np.stack((xx1, xx2), axis=-1)).view(-1, 2).unsqueeze(1)\n",
    "\n",
    "speeds_b = torch.ones((r_ab_probe.shape[1],)) * 1.0\n",
    "desired_directions_b = torch.zeros((r_ab_probe.shape[1], 2))\n",
    "desired_directions_b[:, 0] = 1.0\n",
    "\n",
    "def contour(ax, V):\n",
    "    ax.axhline(0.0, ls='dotted', color='gray')\n",
    "    ax.axvline(0.0, ls='dotted', color='gray')\n",
    "\n",
    "    with torch.no_grad():\n",
    "        values = V.value_r_ab(r_ab_probe, speeds_b, desired_directions_b, 1.0)\n",
    "        values -= torch.min(values)\n",
    "    values = values.view((len(x1), len(x2)))\n",
    "    ax.clabel(\n",
    "        ax.contour(x1, x2, values, levels=np.linspace(0.1, 5.0, 50), vmax=1.0), \n",
    "        inline=1, fontsize=10)\n",
    "\n",
    "    ax.plot([0.0], [0.0], 'o', label='pedestrian', markersize=5.0, color='black')\n",
    "    ax.set_xlabel('$x_1$ [m]')\n",
    "    ax.set_ylabel('$x_2$ [m]')\n",
    "    ax.legend()\n",
    "\n",
    "with socialforce.show.canvas('images/twod_pedped.png') as ax:\n",
    "    contour(ax, socialforce.potentials.PedPedPotential2D())"
   ]
  },
  {
   "cell_type": "code",
   "execution_count": null,
   "metadata": {},
   "outputs": [],
   "source": [
    "with socialforce.show.canvas() as ax:\n",
    "    contour(ax, socialforce.potentials.PedPedPotential2D(field_of_view=socialforce.FieldOfView()))"
   ]
  },
  {
   "cell_type": "markdown",
   "metadata": {},
   "source": [
    "## Fitting to 1, 5 and 20 Circle Scenarios each with Two Pedestrians\n",
    "\n",
    "The preferred speed needs to be varied. Otherwise the symmetry of the problem creates unrealistic scenarios where the two pedestrians get stuck."
   ]
  },
  {
   "cell_type": "code",
   "execution_count": null,
   "metadata": {},
   "outputs": [],
   "source": [
    "def generate_gt(n):\n",
    "    torch.manual_seed(42)\n",
    "    np.random.seed(42)\n",
    "\n",
    "    # ped0 always left to right\n",
    "    ped0 = np.array([-5.0, 0.0, 1.0, 0.0, 5.0, 0.0])\n",
    "\n",
    "    generator_initial_states = []\n",
    "    for theta in np.random.rand(n) * 2.0 * math.pi:\n",
    "        # ped1 at a random angle with +/-20% speed variation\n",
    "        c, s = np.cos(theta), np.sin(theta)\n",
    "        r = np.array([[c, -s], [s, c]])\n",
    "        ped1 = np.concatenate((\n",
    "            np.matmul(r, ped0[0:2]),\n",
    "            np.matmul(r, ped0[2:4]) * (0.8 + np.random.rand(1) * 0.4),\n",
    "            np.matmul(r, ped0[4:6]),\n",
    "        ))\n",
    "        generator_initial_states.append(\n",
    "            np.stack((ped0, ped1))\n",
    "        )\n",
    "\n",
    "    generator_ped_ped = socialforce.PedPedPotential(2.1)\n",
    "    with torch.no_grad():\n",
    "        trajectories = [\n",
    "            socialforce.Simulator(initial_state, ped_ped=generator_ped_ped).run(21)\n",
    "            for initial_state in generator_initial_states\n",
    "        ]\n",
    "    return generator_ped_ped, trajectories\n",
    "\n",
    "generator_pedped_1, scenarios_1 = generate_gt(1)\n",
    "generator_pedped_5, scenarios_5 = generate_gt(5)\n",
    "generator_pedped_20, scenarios_20 = generate_gt(20)"
   ]
  },
  {
   "cell_type": "code",
   "execution_count": null,
   "metadata": {},
   "outputs": [],
   "source": [
    "with socialforce.show.track_canvas(ncols=3, figsize=(12, 4)) as (ax1, ax2, ax3):\n",
    "    socialforce.show.states(ax1, scenarios_1[0])\n",
    "\n",
    "    socialforce.show.states(ax2, scenarios_5[-1])\n",
    "    for scene in scenarios_5[:-1]:\n",
    "        socialforce.show.states(ax2, scene, alpha=0.1)\n",
    "\n",
    "    socialforce.show.states(ax3, scenarios_20[-1])\n",
    "    for scene in scenarios_20[:-1]:\n",
    "        socialforce.show.states(ax3, scene, alpha=0.1)"
   ]
  },
  {
   "cell_type": "code",
   "execution_count": null,
   "metadata": {},
   "outputs": [],
   "source": [
    "true_experience = socialforce.Trainer.scenes_to_experience(scenarios_1)\n",
    "V = socialforce.PedPedPotentialMLP().double()\n",
    "initial_parameters = V.state_dict()\n",
    "\n",
    "def simulator_factory(initial_state):\n",
    "    return socialforce.Simulator(initial_state, ped_ped=V)\n",
    "\n",
    "opt = torch.optim.SGD(V.parameters(), lr=10.0)\n",
    "socialforce.Trainer(simulator_factory, opt, true_experience, batch_size=1).loop(50)"
   ]
  },
  {
   "cell_type": "code",
   "execution_count": null,
   "metadata": {},
   "outputs": [],
   "source": [
    "# make plots of result\n",
    "visualize('images/mlp_circle_n{}_'.format(1), V, initial_parameters, V.state_dict(), V_gen=generator_pedped_1)"
   ]
  },
  {
   "cell_type": "code",
   "execution_count": null,
   "metadata": {},
   "outputs": [],
   "source": [
    "true_experience = socialforce.Trainer.scenes_to_experience(scenarios_5)\n",
    "V = socialforce.PedPedPotentialMLP().double()\n",
    "initial_parameters = V.state_dict()\n",
    "\n",
    "def simulator_factory(initial_state):\n",
    "    return socialforce.Simulator(initial_state, ped_ped=V)\n",
    "\n",
    "opt = torch.optim.SGD(V.parameters(), lr=1.0)\n",
    "socialforce.Trainer(simulator_factory, opt, true_experience, batch_size=1).loop(100)"
   ]
  },
  {
   "cell_type": "code",
   "execution_count": null,
   "metadata": {},
   "outputs": [],
   "source": [
    "visualize('images/mlp_circle_n{}_'.format(5), V, initial_parameters, V.state_dict(), V_gen=generator_pedped_5)"
   ]
  },
  {
   "cell_type": "code",
   "execution_count": null,
   "metadata": {},
   "outputs": [],
   "source": []
  }
 ],
 "metadata": {
  "file_extension": ".py",
  "kernelspec": {
   "display_name": "Python 3.8.6 64-bit ('venv3': venv)",
   "metadata": {
    "interpreter": {
     "hash": "29864609ce42acb949f1cb2f5c54bbb80a5cac9b20d76f096c9b799bd2af5ed7"
    }
   },
   "name": "python3"
  },
  "language_info": {
   "codemirror_mode": {
    "name": "ipython",
    "version": 3
   },
   "file_extension": ".py",
   "mimetype": "text/x-python",
   "name": "python",
   "nbconvert_exporter": "python",
   "pygments_lexer": "ipython3",
   "version": "3.8.6"
  },
  "mimetype": "text/x-python",
  "name": "python",
  "npconvert_exporter": "python",
  "pygments_lexer": "ipython3",
  "version": 3
 },
 "nbformat": 4,
 "nbformat_minor": 2
}
