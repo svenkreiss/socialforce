{
 "cells": [
  {
   "cell_type": "code",
   "execution_count": null,
   "metadata": {
    "tags": [
     "remove-cell"
    ]
   },
   "outputs": [],
   "source": [
    "%matplotlib inline\n",
    "%config InlineBackend.figure_format ='retina'\n",
    "\n",
    "import torch\n",
    "import socialforce\n",
    "\n",
    "_ = torch.manual_seed(42)"
   ]
  },
  {
   "cell_type": "markdown",
   "metadata": {},
   "source": [
    "# 1+1D\n",
    "\n",
    "\n",
    "## Parametric\n",
    "\n",
    "The potential $V(b, d_{\\perp})$ is approximated by two 1D potentials:\n",
    "\\begin{align}\n",
    "    V(b, d_{\\perp}) &= \\textrm{SF}(b) \\cdot \\max(0, 1 + a d_{\\perp})\n",
    "\\end{align}\n",
    "where $a$ is the `asymmetry` parameter of the `PedPedPotential2D` constructor."
   ]
  },
  {
   "cell_type": "code",
   "execution_count": null,
   "metadata": {},
   "outputs": [],
   "source": [
    "V = socialforce.potentials.PedPedPotential2D(asymmetry=-1.0).double()\n",
    "with socialforce.show.canvas(figsize=(12, 6), ncols=2) as (ax1, ax2):\n",
    "    socialforce.show.potential2D(V, ax1)\n",
    "    socialforce.show.potential2D_grad(V, ax2)"
   ]
  },
  {
   "cell_type": "markdown",
   "metadata": {},
   "source": [
    "## Scenarios\n",
    "\n",
    "Here we use a combination of synthetic {ref}`Circle and ParallelOvertake scenarios <scenarios>`."
   ]
  },
  {
   "cell_type": "code",
   "execution_count": null,
   "metadata": {},
   "outputs": [],
   "source": [
    "circle = socialforce.scenarios.Circle(ped_ped=V)\n",
    "parallel = socialforce.scenarios.ParallelOvertake(ped_ped=V)\n",
    "scenarios = circle.generate(5, seed=42) + parallel.generate(5, seed=42)\n",
    "true_experience = socialforce.Trainer.scenes_to_experience(scenarios)"
   ]
  },
  {
   "cell_type": "markdown",
   "metadata": {},
   "source": [
    "## MLP\n",
    "\n",
    "Next we create a model for pedestrian-pedestrian interaction that is the \n",
    "product of two 1D potentials: one potential as a function of $b$ and another \n",
    "as a function of perpendicular distance. The potential is initialized to random\n",
    "weights and biases.\n",
    "\n",
    "\\begin{align}\n",
    "    V(b, d_{\\perp}) &= \\textrm{MLP}_b(b) \\cdot \\textrm{MLP}_{\\perp}(d_{\\perp}) \\;\\;\\; .\n",
    "\\end{align}"
   ]
  },
  {
   "cell_type": "code",
   "execution_count": null,
   "metadata": {},
   "outputs": [],
   "source": [
    "V = socialforce.potentials.PedPedPotentialMLP1p1D().double()\n",
    "with socialforce.show.canvas(figsize=(12, 6), ncols=2) as (ax1, ax2):\n",
    "    socialforce.show.potential2D(V, ax1)\n",
    "    socialforce.show.potential2D_grad(V, ax2)"
   ]
  },
  {
   "cell_type": "markdown",
   "metadata": {},
   "source": [
    "## Inference\n",
    "\n",
    "Next, we use the standard SGD optimizer from PyTorch and train the ped-ped \n",
    "interaction model on the synthetic data created above."
   ]
  },
  {
   "cell_type": "code",
   "execution_count": null,
   "metadata": {},
   "outputs": [],
   "source": [
    "simulator = socialforce.Simulator(ped_ped=V) \n",
    "opt = torch.optim.SGD(V.parameters(), lr=1.0)\n",
    "socialforce.Trainer(simulator, opt).loop(20, true_experience, log_interval=5)"
   ]
  },
  {
   "cell_type": "code",
   "execution_count": null,
   "metadata": {},
   "outputs": [],
   "source": [
    "with socialforce.show.canvas(figsize=(12, 6), ncols=2) as (ax1, ax2):\n",
    "    socialforce.show.potential2D(V, ax1)\n",
    "    socialforce.show.potential2D_grad(V, ax2)"
   ]
  },
  {
   "cell_type": "code",
   "execution_count": null,
   "metadata": {},
   "outputs": [],
   "source": []
  }
 ],
 "metadata": {
  "file_extension": ".py",
  "kernelspec": {
   "display_name": "Python 3.8.6  ('venv3': venv)",
   "name": "python37464bitvenv3venv95b249511ee2436ea5823f2f2c42d28c"
  },
  "language_info": {
   "codemirror_mode": {
    "name": "ipython",
    "version": 3
   },
   "file_extension": ".py",
   "mimetype": "text/x-python",
   "name": "python",
   "nbconvert_exporter": "python",
   "pygments_lexer": "ipython3",
   "version": "3.8.6"
  },
  "metadata": {
   "interpreter": {
    "hash": "29864609ce42acb949f1cb2f5c54bbb80a5cac9b20d76f096c9b799bd2af5ed7"
   }
  },
  "mimetype": "text/x-python",
  "name": "python",
  "npconvert_exporter": "python",
  "pygments_lexer": "ipython3",
  "version": 3
 },
 "nbformat": 4,
 "nbformat_minor": 2
}
