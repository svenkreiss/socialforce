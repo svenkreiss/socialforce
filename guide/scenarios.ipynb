{
 "cells": [
  {
   "cell_type": "code",
   "execution_count": null,
   "metadata": {
    "tags": [
     "remove-cell"
    ]
   },
   "outputs": [],
   "source": [
    "%matplotlib inline\n",
    "%config InlineBackend.figure_format ='retina'\n",
    "\n",
    "import copy\n",
    "import math\n",
    "\n",
    "import numpy as np\n",
    "import torch\n",
    "import socialforce"
   ]
  },
  {
   "cell_type": "markdown",
   "metadata": {},
   "source": [
    "(scenarios)=\n",
    "# Scenarios\n",
    "\n",
    "We have a few synthetic scenarios. They are generated with parametric potentials.\n",
    "Here, we use the standard Social Force potential for the pedestrian-pedestrian interaction:"
   ]
  },
  {
   "cell_type": "code",
   "execution_count": null,
   "metadata": {},
   "outputs": [],
   "source": [
    "ped_ped = socialforce.potentials.PedPedPotential()"
   ]
  },
  {
   "cell_type": "markdown",
   "metadata": {},
   "source": [
    "\n",
    "## Circle\n",
    "\n",
    "The preferred speed needs to be varied. Otherwise the symmetry of the problem creates unrealistic scenarios where the two pedestrians get stuck."
   ]
  },
  {
   "cell_type": "code",
   "execution_count": null,
   "metadata": {},
   "outputs": [],
   "source": [
    "circle = socialforce.scenarios.Circle(ped_ped=ped_ped)\n",
    "scenarios_1 = circle.generate(1, seed=42)\n",
    "scenarios_5 = circle.generate(5, seed=42)\n",
    "scenarios_20 = circle.generate(20, seed=42)"
   ]
  },
  {
   "cell_type": "code",
   "execution_count": null,
   "metadata": {
    "tags": [
     "hide-input"
    ]
   },
   "outputs": [],
   "source": [
    "# HIDE CODE\n",
    "with socialforce.show.track_canvas(ncols=3, figsize=(12, 4)) as (ax1, ax2, ax3):\n",
    "    socialforce.show.states(ax1, scenarios_1[0])\n",
    "\n",
    "    socialforce.show.states(ax2, scenarios_5[-1])\n",
    "    for scene in scenarios_5[:-1]:\n",
    "        socialforce.show.states(ax2, scene, alpha=0.1)\n",
    "\n",
    "    socialforce.show.states(ax3, scenarios_20[-1])\n",
    "    for scene in scenarios_20[:-1]:\n",
    "        socialforce.show.states(ax3, scene, alpha=0.1)"
   ]
  },
  {
   "cell_type": "markdown",
   "metadata": {},
   "source": [
    "## ParallelOvertake"
   ]
  },
  {
   "cell_type": "code",
   "execution_count": null,
   "metadata": {},
   "outputs": [],
   "source": [
    "parallel = socialforce.scenarios.ParallelOvertake(ped_ped=ped_ped)\n",
    "scenarios_1 = parallel.generate(1, seed=42)\n",
    "scenarios_5 = parallel.generate(5, seed=42)\n",
    "scenarios_20 = parallel.generate(20, seed=42)"
   ]
  },
  {
   "cell_type": "code",
   "execution_count": null,
   "metadata": {
    "tags": [
     "hide-input"
    ]
   },
   "outputs": [],
   "source": [
    "# HIDE CODE\n",
    "with socialforce.show.track_canvas(ncols=3, figsize=(12, 4)) as (ax1, ax2, ax3):\n",
    "    socialforce.show.states(ax1, scenarios_1[0])\n",
    "\n",
    "    socialforce.show.states(ax2, scenarios_5[-1])\n",
    "    for scene in scenarios_5[:-1]:\n",
    "        socialforce.show.states(ax2, scene, alpha=0.1)\n",
    "\n",
    "    socialforce.show.states(ax3, scenarios_20[-1])\n",
    "    for scene in scenarios_20[:-1]:\n",
    "        socialforce.show.states(ax3, scene, alpha=0.1)\n"
   ]
  },
  {
   "cell_type": "code",
   "execution_count": null,
   "metadata": {},
   "outputs": [],
   "source": []
  }
 ],
 "metadata": {
  "file_extension": ".py",
  "kernelspec": {
   "display_name": "Python 3.8.6  ('venv3': venv)",
   "name": "python37464bitvenv3venv95b249511ee2436ea5823f2f2c42d28c"
  },
  "language_info": {
   "codemirror_mode": {
    "name": "ipython",
    "version": 3
   },
   "file_extension": ".py",
   "mimetype": "text/x-python",
   "name": "python",
   "nbconvert_exporter": "python",
   "pygments_lexer": "ipython3",
   "version": "3.8.6"
  },
  "metadata": {
   "interpreter": {
    "hash": "29864609ce42acb949f1cb2f5c54bbb80a5cac9b20d76f096c9b799bd2af5ed7"
   }
  },
  "mimetype": "text/x-python",
  "name": "python",
  "npconvert_exporter": "python",
  "pygments_lexer": "ipython3",
  "version": 3
 },
 "nbformat": 4,
 "nbformat_minor": 2
}
