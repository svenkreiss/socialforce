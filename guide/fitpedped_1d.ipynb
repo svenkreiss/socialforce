{
 "cells": [
  {
   "cell_type": "code",
   "execution_count": null,
   "metadata": {
    "tags": [
     "remove-cell"
    ]
   },
   "outputs": [],
   "source": [
    "%matplotlib inline\n",
    "%config InlineBackend.figure_format ='retina'\n",
    "\n",
    "import copy\n",
    "\n",
    "import torch\n",
    "import socialforce"
   ]
  },
  {
   "cell_type": "markdown",
   "metadata": {},
   "source": [
    "# Fit 1D\n",
    "\n",
    "The preferred speed needs to be varied. Otherwise the symmetry of the problem creates unrealistic scenarios where the two pedestrians get stuck.\n",
    "\n",
    "{ref}`Scenarios <scenarios>`."
   ]
  },
  {
   "cell_type": "code",
   "execution_count": null,
   "metadata": {},
   "outputs": [],
   "source": [
    "circle = socialforce.scenarios.Circle()\n",
    "scenarios_1 = circle.generate(1)\n",
    "scenarios_5 = circle.generate(5)\n",
    "scenarios_20 = circle.generate(20)"
   ]
  },
  {
   "cell_type": "code",
   "execution_count": null,
   "metadata": {
    "tags": [
     "hide-input"
    ]
   },
   "outputs": [],
   "source": [
    "# HIDE CODE\n",
    "with socialforce.show.track_canvas(ncols=3, figsize=(12, 4)) as (ax1, ax2, ax3):\n",
    "    socialforce.show.states(ax1, scenarios_1[0])\n",
    "\n",
    "    socialforce.show.states(ax2, scenarios_5[-1])\n",
    "    for scene in scenarios_5[:-1]:\n",
    "        socialforce.show.states(ax2, scene, alpha=0.1)\n",
    "\n",
    "    socialforce.show.states(ax3, scenarios_20[-1])\n",
    "    for scene in scenarios_20[:-1]:\n",
    "        socialforce.show.states(ax3, scene, alpha=0.1)"
   ]
  },
  {
   "cell_type": "code",
   "execution_count": null,
   "metadata": {},
   "outputs": [],
   "source": [
    "true_experience = socialforce.Trainer.scenes_to_experience(scenarios_1)\n",
    "V = socialforce.PedPedPotentialMLP().double()\n",
    "initial_state_dict = copy.deepcopy(V.state_dict())\n",
    "\n",
    "def simulator_factory(initial_state):\n",
    "    return socialforce.Simulator(initial_state, ped_ped=V)\n",
    "\n",
    "opt = torch.optim.SGD(V.parameters(), lr=10.0)\n",
    "socialforce.Trainer(simulator_factory, opt, true_experience).loop(50, log_interval=10)\n",
    "final_state_dict = copy.deepcopy(V.state_dict())"
   ]
  },
  {
   "cell_type": "code",
   "execution_count": null,
   "metadata": {
    "tags": [
     "hide-input"
    ]
   },
   "outputs": [],
   "source": [
    "# HIDE CODE\n",
    "with socialforce.show.canvas(ncols=2) as (ax1, ax2):\n",
    "    socialforce.show.potential1D_parametric(\n",
    "        circle.ped_ped, ax1, ax2, \n",
    "        label=r'true $V_0 e^{-b/\\sigma}$', sigma_label=r'true $\\sigma$', color='gray')\n",
    "\n",
    "    V.load_state_dict(initial_state_dict)\n",
    "    socialforce.show.potential1D(V, ax1, ax2, label=r'initial MLP($b$)', linestyle='dashed', color='C0')\n",
    "\n",
    "    V.load_state_dict(final_state_dict)\n",
    "    socialforce.show.potential1D(V, ax1, ax2, label=r'MLP($b$)', color='C0')"
   ]
  },
  {
   "cell_type": "code",
   "execution_count": null,
   "metadata": {},
   "outputs": [],
   "source": []
  }
 ],
 "metadata": {
  "file_extension": ".py",
  "kernelspec": {
   "display_name": "Python 3.8.6  ('venv3': venv)",
   "metadata": {
    "interpreter": {
     "hash": "29864609ce42acb949f1cb2f5c54bbb80a5cac9b20d76f096c9b799bd2af5ed7"
    }
   },
   "name": "python3"
  },
  "language_info": {
   "codemirror_mode": {
    "name": "ipython",
    "version": 3
   },
   "file_extension": ".py",
   "mimetype": "text/x-python",
   "name": "python",
   "nbconvert_exporter": "python",
   "pygments_lexer": "ipython3",
   "version": "3.8.6"
  },
  "mimetype": "text/x-python",
  "name": "python",
  "npconvert_exporter": "python",
  "pygments_lexer": "ipython3",
  "version": 3
 },
 "nbformat": 4,
 "nbformat_minor": 2
}
