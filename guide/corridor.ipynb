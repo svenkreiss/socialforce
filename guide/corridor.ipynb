{
 "cells": [
  {
   "cell_type": "code",
   "execution_count": null,
   "metadata": {
    "tags": [
     "remove-cell"
    ]
   },
   "outputs": [],
   "source": [
    "%matplotlib inline\n",
    "%config InlineBackend.figure_format ='retina'\n",
    "\n",
    "import copy\n",
    "import math\n",
    "\n",
    "import IPython\n",
    "import numpy as np\n",
    "import torch\n",
    "import socialforce"
   ]
  },
  {
   "cell_type": "markdown",
   "metadata": {},
   "source": [
    "(corridor)=\n",
    "# Corridor\n",
    "\n",
    "We want to qualitatively study the impact of non-standard Social Force potentials."
   ]
  },
  {
   "cell_type": "code",
   "execution_count": null,
   "metadata": {},
   "outputs": [],
   "source": [
    "def initial_state_corridor(n):\n",
    "    _ = torch.manual_seed(42)\n",
    "\n",
    "    # first n people go right, second n people go left\n",
    "    state = torch.zeros((n * 2, 6))\n",
    "\n",
    "    # positions\n",
    "    state[:n, 0:2] = ((torch.rand((n, 2)) - 0.5) * 2.0) * torch.tensor([25.0, 4.5])\n",
    "    state[n:, 0:2] = ((torch.rand((n, 2)) - 0.5) * 2.0) * torch.tensor([25.0, 4.5])\n",
    "\n",
    "    # velocity\n",
    "    state[:n, 2] = torch.normal(torch.full((n,), 1.34), 0.26)\n",
    "    state[n:, 2] = torch.normal(torch.full((n,), -1.34), 0.26)\n",
    "\n",
    "    # x destination\n",
    "    state[:n, 4] = 100.0\n",
    "    state[n:, 4] = -100.0\n",
    "\n",
    "    return state\n",
    "\n",
    "initial_state = initial_state_corridor(60)\n"
   ]
  },
  {
   "cell_type": "markdown",
   "metadata": {},
   "source": [
    "The space is just two walls at $y=5.0m$ and $y=-5.0m$. To avoid boundary effects,\n",
    "the walls extend beyond the periodic boundaries at $x=-25m$ and $x=25m$."
   ]
  },
  {
   "cell_type": "code",
   "execution_count": null,
   "metadata": {},
   "outputs": [],
   "source": [
    "\n",
    "upper_wall = torch.stack([torch.linspace(-30, 30, 600), torch.full((600,), 5)], -1)\n",
    "lower_wall = torch.stack([torch.linspace(-30, 30, 600), torch.full((600,), -5)], -1)\n",
    "ped_space = socialforce.PedSpacePotential([upper_wall, lower_wall])"
   ]
  },
  {
   "cell_type": "markdown",
   "metadata": {},
   "source": [
    "\n",
    "## Rereference Potential\n",
    "\n",
    "Standard SF:"
   ]
  },
  {
   "cell_type": "code",
   "execution_count": null,
   "metadata": {},
   "outputs": [],
   "source": [
    "ped_ped = socialforce.potentials.PedPedPotential()"
   ]
  },
  {
   "cell_type": "code",
   "execution_count": null,
   "metadata": {
    "tags": [
     "hide-input"
    ]
   },
   "outputs": [],
   "source": [
    "# HIDE CODE\n",
    "simulator = socialforce.Simulator(ped_ped=ped_ped, ped_space=ped_space,\n",
    "                                  oversampling=2, delta_t=0.08)\n",
    "simulator.integrator = socialforce.simulator.PeriodicBoundary(\n",
    "    simulator.integrator, x_boundary=[-25.0, 25.0])\n",
    "\n",
    "with torch.no_grad():\n",
    "    states = simulator.run(initial_state, 250)\n",
    "states_sf = states  # backup for analysis later\n",
    "\n",
    "with socialforce.show.track_canvas(ncols=2, figsize=(12, 2), tight_layout=False) as (ax1, ax2):\n",
    "    socialforce.show.states(ax1, states[0:1], monochrome=True)\n",
    "    socialforce.show.space(ax1, ped_space)\n",
    "    ax1.text(0.1, 0.1, '$t = 0s$', transform=ax1.transAxes)\n",
    "    ax1.set_xlim(-25, 25)\n",
    "\n",
    "    socialforce.show.states(ax2, states[249:250], monochrome=True)\n",
    "    socialforce.show.space(ax2, ped_space)\n",
    "    ax2.text(0.1, 0.1, '$t = 20s$', transform=ax2.transAxes)\n",
    "    ax2.set_xlim(-25, 25)"
   ]
  },
  {
   "cell_type": "code",
   "execution_count": null,
   "metadata": {
    "tags": [
     "hide-input"
    ]
   },
   "outputs": [],
   "source": [
    "# HIDE CODE\n",
    "with socialforce.show.track_canvas(figsize=(6, 2), tight_layout=False, show=False, dpi=130) as ax:\n",
    "    ax.set_xlim(-25, 25)\n",
    "    socialforce.show.space(ax, ped_space)\n",
    "    video = socialforce.show.state_animation(ax, states, delta_t=0.08, monochrome=True).to_html5_video()\n",
    "\n",
    "IPython.display.HTML(video)\n"
   ]
  },
  {
   "cell_type": "markdown",
   "metadata": {},
   "source": [
    "## Diamond Potential"
   ]
  },
  {
   "cell_type": "code",
   "execution_count": null,
   "metadata": {},
   "outputs": [],
   "source": [
    "ped_ped = socialforce.potentials.PedPedPotentialDiamond(sigma=0.5)"
   ]
  },
  {
   "cell_type": "code",
   "execution_count": null,
   "metadata": {
    "tags": [
     "hide-input"
    ]
   },
   "outputs": [],
   "source": [
    "# HIDE CODE\n",
    "simulator = socialforce.Simulator(ped_ped=ped_ped, ped_space=ped_space,\n",
    "                                  oversampling=2, delta_t=0.08)\n",
    "simulator.integrator = socialforce.simulator.PeriodicBoundary(\n",
    "    simulator.integrator, x_boundary=[-25.0, 25.0])\n",
    "\n",
    "with torch.no_grad():\n",
    "    states = simulator.run(initial_state, 250)\n",
    "states_diamond = states  # backup for analysis later\n",
    "\n",
    "with socialforce.show.track_canvas(ncols=2, figsize=(12, 2), tight_layout=False) as (ax1, ax2):\n",
    "    socialforce.show.states(ax1, states[0:1], monochrome=True)\n",
    "    socialforce.show.space(ax1, ped_space)\n",
    "    ax1.text(0.1, 0.1, '$t = 0s$', transform=ax1.transAxes)\n",
    "    ax1.set_xlim(-25, 25)\n",
    "\n",
    "    socialforce.show.states(ax2, states[249:250], monochrome=True)\n",
    "    socialforce.show.space(ax2, ped_space)\n",
    "    ax2.text(0.1, 0.1, '$t = 20s$', transform=ax2.transAxes)\n",
    "    ax2.set_xlim(-25, 25)\n",
    "    "
   ]
  },
  {
   "cell_type": "code",
   "execution_count": null,
   "metadata": {
    "tags": [
     "hide-input"
    ]
   },
   "outputs": [],
   "source": [
    "# HIDE CODE\n",
    "with socialforce.show.track_canvas(figsize=(6, 2), tight_layout=False, show=False, dpi=130) as ax:\n",
    "    ax.set_xlim(-25, 25)\n",
    "    socialforce.show.space(ax, ped_space)\n",
    "    video = socialforce.show.state_animation(ax, states, delta_t=0.08, monochrome=True).to_html5_video()\n",
    "\n",
    "IPython.display.HTML(video)\n"
   ]
  },
  {
   "cell_type": "markdown",
   "metadata": {},
   "source": [
    "## Analysis"
   ]
  },
  {
   "cell_type": "code",
   "execution_count": null,
   "metadata": {},
   "outputs": [],
   "source": [
    "def relative_speeds(states):\n",
    "    speeds = np.linalg.norm(states[:, :, 2:4], axis=-1)\n",
    "    preferred = states[:, :, 9]\n",
    "    relative = speeds / preferred\n",
    "\n",
    "    # ignore the first 50\n",
    "    relative = relative[50:]\n",
    "    return relative.reshape(-1)\n",
    "\n",
    "with socialforce.show.canvas() as ax:\n",
    "    r_sf = relative_speeds(states_sf)\n",
    "    r_diamond = relative_speeds(states_diamond)\n",
    "    ax.hist([r_sf, r_diamond], bins=30, range=(0.8, 1.35), density=True, label='Social Force')\n",
    "    ax.legend()\n",
    "    ax.set_xlabel('$v / v_{preferred}$ [m/s]')"
   ]
  },
  {
   "cell_type": "code",
   "execution_count": null,
   "metadata": {},
   "outputs": [],
   "source": []
  }
 ],
 "metadata": {
  "file_extension": ".py",
  "kernelspec": {
   "display_name": "Python 3.9.2  ('venv3': venv)",
   "name": "python37464bitvenv3venv95b249511ee2436ea5823f2f2c42d28c"
  },
  "language_info": {
   "name": "python",
   "version": ""
  },
  "metadata": {
   "interpreter": {
    "hash": "29864609ce42acb949f1cb2f5c54bbb80a5cac9b20d76f096c9b799bd2af5ed7"
   }
  },
  "mimetype": "text/x-python",
  "name": "python",
  "npconvert_exporter": "python",
  "pygments_lexer": "ipython3",
  "version": 3
 },
 "nbformat": 4,
 "nbformat_minor": 2
}
