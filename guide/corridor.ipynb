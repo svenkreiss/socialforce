{
 "cells": [
  {
   "cell_type": "code",
   "execution_count": null,
   "metadata": {
    "tags": [
     "remove-cell"
    ]
   },
   "outputs": [],
   "source": [
    "%matplotlib inline\n",
    "%config InlineBackend.figure_format ='retina'\n",
    "\n",
    "import copy\n",
    "import math\n",
    "\n",
    "import numpy as np\n",
    "import torch\n",
    "import socialforce"
   ]
  },
  {
   "cell_type": "markdown",
   "metadata": {},
   "source": [
    "(corridor)=\n",
    "# Corridor\n",
    "\n",
    "We want to qualitatively study the impact of non-standard Social Force potentials."
   ]
  },
  {
   "cell_type": "code",
   "execution_count": null,
   "metadata": {},
   "outputs": [],
   "source": [
    "def initial_state_people(n):\n",
    "    _ = torch.manual_seed(42)\n",
    "\n",
    "    # first n people are go the right, second n people go left\n",
    "    state = torch.zeros((n * 2, 6))\n",
    "\n",
    "    # positions\n",
    "    state[:n, 0:2] = ((torch.rand((n, 2)) - 0.5) * 2.0) * torch.tensor([25.0, 4.5])\n",
    "    state[n:, 0:2] = ((torch.rand((n, 2)) - 0.5) * 2.0) * torch.tensor([25.0, 4.5])\n",
    "\n",
    "    # velocity\n",
    "    state[:n, 2:4] = torch.normal(torch.full((n, 1), 1.34), 0.26)\n",
    "    state[n:, 2:4] = torch.normal(torch.full((n, 1), -1.34), 0.26)\n",
    "\n",
    "    # x destination\n",
    "    state[:n, 4] = 100.0\n",
    "    state[n:, 4] = -100.0\n",
    "\n",
    "    return state\n",
    "\n",
    "upper_wall = torch.stack([torch.linspace(-30, 30, 600), torch.full((600,), 5)], -1)\n",
    "lower_wall = torch.stack([torch.linspace(-30, 30, 600), torch.full((600,), -5)], -1)\n",
    "ped_space = socialforce.PedSpacePotential([upper_wall, lower_wall])"
   ]
  },
  {
   "cell_type": "markdown",
   "metadata": {},
   "source": [
    "\n",
    "## Rereference Potential\n",
    "\n",
    "Standard SF:"
   ]
  },
  {
   "cell_type": "code",
   "execution_count": null,
   "metadata": {},
   "outputs": [],
   "source": [
    "ped_ped = socialforce.potentials.PedPedPotential()\n",
    "initial_state = initial_state_people(30)\n",
    "simulator = socialforce.Simulator(ped_ped=ped_ped, ped_space=ped_space)\n",
    "simulator.integrator = socialforce.simulator.PeriodicBoundary(simulator.integrator, x_boundary=[-30.0, 30.0])\n",
    "\n",
    "with torch.no_grad():\n",
    "    states = simulator.run(initial_state, 500)"
   ]
  },
  {
   "cell_type": "code",
   "execution_count": null,
   "metadata": {
    "tags": [
     "hide-input"
    ]
   },
   "outputs": [],
   "source": [
    "# HIDE CODE\n",
    "with socialforce.show.track_canvas(ncols=3, figsize=(12, 4)) as (ax1, ax2, ax3):\n",
    "    socialforce.show.states(ax1, states[0:1], monochrome=True)\n",
    "    ax1.set_xlim(-30, 30)\n",
    "\n",
    "    socialforce.show.states(ax2, states[50:51], monochrome=True)\n",
    "    ax2.set_xlim(-30, 30)\n",
    "\n",
    "    socialforce.show.states(ax3, states[499:500], monochrome=True)\n",
    "    ax3.set_xlim(-30, 30)"
   ]
  },
  {
   "cell_type": "code",
   "execution_count": null,
   "metadata": {},
   "outputs": [],
   "source": []
  }
 ],
 "metadata": {
  "file_extension": ".py",
  "kernelspec": {
   "display_name": "Python 3.9.2  ('venv3': venv)",
   "name": "python37464bitvenv3venv95b249511ee2436ea5823f2f2c42d28c"
  },
  "language_info": {
   "codemirror_mode": {
    "name": "ipython",
    "version": 3
   },
   "file_extension": ".py",
   "mimetype": "text/x-python",
   "name": "python",
   "nbconvert_exporter": "python",
   "pygments_lexer": "ipython3",
   "version": "3.9.2"
  },
  "metadata": {
   "interpreter": {
    "hash": "29864609ce42acb949f1cb2f5c54bbb80a5cac9b20d76f096c9b799bd2af5ed7"
   }
  },
  "mimetype": "text/x-python",
  "name": "python",
  "npconvert_exporter": "python",
  "pygments_lexer": "ipython3",
  "version": 3
 },
 "nbformat": 4,
 "nbformat_minor": 2
}
