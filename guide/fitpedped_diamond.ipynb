{
 "cells": [
  {
   "cell_type": "code",
   "execution_count": null,
   "metadata": {
    "tags": [
     "remove-cell"
    ]
   },
   "outputs": [],
   "source": [
    "%matplotlib inline\n",
    "%config InlineBackend.figure_format ='retina'\n",
    "\n",
    "import torch\n",
    "import socialforce"
   ]
  },
  {
   "cell_type": "markdown",
   "metadata": {},
   "source": [
    "# Fit Diamond\n",
    "\n",
    "This is an extension of the {ref}`fit-2d` example to study the robustness\n",
    "of the inference process to potentials with gradients that change orientation.\n",
    "We use a modified $V(b)$ potential that could be described as a \"diamond\"\n",
    "of height $V_0$ and with a half-width of $\\sigma$:\n",
    "\\begin{align}\n",
    "    V(b) &= V_0 \\max\\left(0, 1 - \\frac{L1}{2\\sigma} \\right)\n",
    "\\end{align}\n",
    "with its two parameters $V_0$ and $\\sigma$."
   ]
  },
  {
   "cell_type": "code",
   "execution_count": null,
   "metadata": {},
   "outputs": [],
   "source": [
    "V = socialforce.potentials.PedPedPotentialDiamond(sigma=0.5).double()\n",
    "with socialforce.show.canvas(figsize=(12, 6), ncols=2) as (ax1, ax2):\n",
    "    socialforce.show.potential2D(V, ax1)\n",
    "    socialforce.show.potential2D_grad(V, ax2)"
   ]
  },
  {
   "cell_type": "markdown",
   "metadata": {},
   "source": [
    "## Scenarios\n",
    "\n",
    "We generate {ref}`Circle and ParallelOvertake scenarios <scenarios>`."
   ]
  },
  {
   "cell_type": "code",
   "execution_count": null,
   "metadata": {},
   "outputs": [],
   "source": [
    "circle = socialforce.scenarios.Circle(ped_ped=V)\n",
    "parallel = socialforce.scenarios.ParallelOvertake(ped_ped=V)\n",
    "scenarios = circle.generate(20, seed=42) + parallel.generate(20, seed=42)\n",
    "true_experience = socialforce.Trainer.scenes_to_experience(scenarios, radius=3.0)"
   ]
  },
  {
   "cell_type": "code",
   "execution_count": null,
   "metadata": {},
   "outputs": [],
   "source": [
    "# HIDE CODE\n",
    "with socialforce.show.track_canvas() as ax:\n",
    "    socialforce.show.states(ax, scenarios[-1])\n",
    "    for scene in scenarios[:-1]:\n",
    "        socialforce.show.states(ax, scene, alpha=0.1)"
   ]
  },
  {
   "cell_type": "markdown",
   "metadata": {},
   "source": [
    "## MLP\n",
    "\n",
    "We construct an coordinate-based MLP with Fourier \n",
    "Features {cite}`tancik2020fourier,rahimi2007random`."
   ]
  },
  {
   "cell_type": "code",
   "execution_count": null,
   "metadata": {},
   "outputs": [],
   "source": [
    "V = socialforce.potentials.PedPedPotentialMLP2D(hidden_units=64, n_fourier_features=256, fourier_scale=3.0).double()\n",
    "with socialforce.show.canvas(figsize=(12, 6), ncols=2) as (ax1, ax2):\n",
    "    socialforce.show.potential2D(V, ax1)\n",
    "    socialforce.show.potential2D_grad(V, ax2)"
   ]
  },
  {
   "cell_type": "code",
   "execution_count": null,
   "metadata": {},
   "outputs": [],
   "source": [
    "def simulator_factory(initial_state):\n",
    "    return socialforce.Simulator(initial_state, ped_ped=V)\n",
    "\n",
    "opt = torch.optim.SGD(V.parameters(), lr=0.3)\n",
    "socialforce.Trainer(simulator_factory, opt, true_experience, loss=torch.nn.L1Loss()).loop(10)"
   ]
  },
  {
   "cell_type": "code",
   "execution_count": null,
   "metadata": {},
   "outputs": [],
   "source": [
    "with socialforce.show.canvas(figsize=(12, 6), ncols=2) as (ax1, ax2):\n",
    "    socialforce.show.potential2D(V, ax1)\n",
    "    socialforce.show.potential2D_grad(V, ax2)"
   ]
  },
  {
   "cell_type": "code",
   "execution_count": null,
   "metadata": {},
   "outputs": [],
   "source": []
  }
 ],
 "metadata": {
  "file_extension": ".py",
  "kernelspec": {
   "display_name": "Python 3.8.6  ('venv3': venv)",
   "metadata": {
    "interpreter": {
     "hash": "29864609ce42acb949f1cb2f5c54bbb80a5cac9b20d76f096c9b799bd2af5ed7"
    }
   },
   "name": "python3"
  },
  "language_info": {
   "codemirror_mode": {
    "name": "ipython",
    "version": 3
   },
   "file_extension": ".py",
   "mimetype": "text/x-python",
   "name": "python",
   "nbconvert_exporter": "python",
   "pygments_lexer": "ipython3",
   "version": "3.8.6"
  },
  "mimetype": "text/x-python",
  "name": "python",
  "npconvert_exporter": "python",
  "pygments_lexer": "ipython3",
  "version": 3
 },
 "nbformat": 4,
 "nbformat_minor": 2
}
